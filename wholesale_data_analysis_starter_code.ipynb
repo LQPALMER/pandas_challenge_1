{
 "cells": [
  {
   "cell_type": "markdown",
   "id": "dc0318d6",
   "metadata": {},
   "source": [
    "## Part 1: Explore the Data\n",
    "\n",
    "Import the data and use Pandas to learn more about the dataset."
   ]
  },
  {
   "cell_type": "code",
   "execution_count": null,
   "id": "e076f57f",
   "metadata": {},
   "outputs": [],
   "source": [
    "import pandas as pd\n",
    "\n",
    "df = pd.read_csv('Resources/client_dataset.csv')\n",
    "df.head()"
   ]
  },
  {
   "cell_type": "code",
   "execution_count": null,
   "id": "71b9bbd2",
   "metadata": {},
   "outputs": [],
   "source": [
    "# View the column names in the data\n",
    "print(df.columns)\n"
   ]
  },
  {
   "cell_type": "code",
   "execution_count": null,
   "id": "bc0f4172",
   "metadata": {},
   "outputs": [],
   "source": [
    "# Use the describe function to gather some basic statistics\n",
    "df.describe"
   ]
  },
  {
   "cell_type": "code",
   "execution_count": null,
   "id": "b24b53cc",
   "metadata": {},
   "outputs": [],
   "source": [
    "# Use this space to do any additional research\n",
    "# and familiarize yourself with the data.\n",
    "print(df.dtypes)\n",
    "print(len(df))\n"
   ]
  },
  {
   "cell_type": "code",
   "execution_count": null,
   "id": "551cb358",
   "metadata": {},
   "outputs": [],
   "source": [
    "# What three item categories had the most entries?\n",
    "top3_categories = df['category'].value_counts().head(3)\n",
    "print(top3_categories)"
   ]
  },
  {
   "cell_type": "code",
   "execution_count": null,
   "id": "5f54e2cf",
   "metadata": {},
   "outputs": [],
   "source": [
    "# For the category with the most entries, which subcategory had the most entries?\n",
    "top_category = df['category'].value_counts().idxmax()\n",
    "top_subcategory = df[df['category'] == top_category]['subcategory'].value_counts().idxmax()\n",
    "print(f\"The subcategory with the most entries in the category '{top3_categories}' is '{top_subcategory}'.\")"
   ]
  },
  {
   "cell_type": "code",
   "execution_count": null,
   "id": "2db94379",
   "metadata": {},
   "outputs": [],
   "source": [
    "# Which five clients had the most entries in the data?\n",
    "top5_clients = df['client_id'].value_counts().nlargest(5)\n",
    "top5_clients_list = top5_clients.index.tolist()\n",
    "print(\"Top 5 clients with the most entries:\")\n",
    "print(top5_clients)"
   ]
  },
  {
   "cell_type": "code",
   "execution_count": null,
   "id": "a6635601",
   "metadata": {},
   "outputs": [],
   "source": [
    "# Store the client ids of those top 5 clients in a list.\n",
    "top5_clients = [33615, 66037, 46820, 38378, 24741 ]"
   ]
  },
  {
   "cell_type": "code",
   "execution_count": null,
   "id": "c88b8a3e",
   "metadata": {},
   "outputs": [],
   "source": [
    "# How many total units (the qty column) did the client with the most entries order order?\n",
    "client_order_counts = df['client_id'].value_counts()\n",
    "top_client = client_order_counts.idxmax()\n",
    "top_client_orders = df[df['client_id'] == top_client]\n",
    "total_units_ordered = top_client_orders['qty'].sum()\n",
    "print(total_units_ordered)"
   ]
  },
  {
   "cell_type": "markdown",
   "id": "257fcd7d",
   "metadata": {},
   "source": [
    "## Part 2: Transform the Data\n",
    "Do we know that this client spent  more money than client 66037? If not, how would we find out? Transform the data using the steps below to prepare it for analysis."
   ]
  },
  {
   "cell_type": "code",
   "execution_count": null,
   "id": "0c25c4a8",
   "metadata": {},
   "outputs": [],
   "source": [
    "# Create a column that calculates the subtotal for each line using the unit_price and the qty\n",
    "df['subtotal'] = df['unit_price'] * df['qty']"
   ]
  },
  {
   "cell_type": "code",
   "execution_count": null,
   "id": "ac9dafc8",
   "metadata": {},
   "outputs": [],
   "source": [
    "# Create a column for shipping price.\n",
    "df = ['shipping_price']\n",
    "# Assume a shipping price of $7 per pound for orders over 50 pounds and $10 per pound for items 50 pounds or under.\n",
    "df['shipping_price'] = df.apply(lambda row: row['weight'] * 7 if row['weight'] > 50 else row['weight'] * 10, axis=1)\n"
   ]
  },
  {
   "cell_type": "code",
   "execution_count": null,
   "id": "77f42c67",
   "metadata": {},
   "outputs": [],
   "source": [
    "# Create a column for the total price using the subtotal and the shipping price along with a sales tax of 9.25%\n",
    "sales_tax_rate = 0.0925 \n",
    "df['total_price'] = df['subtotal'] + df['shipping_price'] + df['shipping_price'] * sales_tax_rate\n"
   ]
  },
  {
   "cell_type": "code",
   "execution_count": null,
   "id": "c82ad275",
   "metadata": {},
   "outputs": [],
   "source": [
    "# Create a column for the cost of each line using unit cost, qty, and\n",
    "# shipping price (assume the shipping cost is exactly what is charged to the client).\n",
    "df['line_cost'] = df['unit_cost'] * df['qty'] + df['shipping_price']"
   ]
  },
  {
   "cell_type": "code",
   "execution_count": null,
   "id": "e2389018",
   "metadata": {},
   "outputs": [],
   "source": [
    "# Create a column for the profit of each line using line cost and line price\n",
    "df['line_profit'] = df['line_price'] - df['line_cost']"
   ]
  },
  {
   "cell_type": "markdown",
   "id": "ef6f62b1",
   "metadata": {},
   "source": [
    "## Part 3: Confirm your work\n",
    "You have email receipts showing that the total prices for 3 orders. Confirm that your calculations match the receipts. Remember, each order has multiple lines.\n",
    "\n",
    "Order ID 2742071 had a total price of \\$152,811.89\n",
    "\n",
    "Order ID 2173913 had a total price of \\$162,388.71\n",
    "\n",
    "Order ID 6128929 had a total price of \\$923,441.25\n"
   ]
  },
  {
   "cell_type": "code",
   "execution_count": null,
   "id": "c0e5d68e",
   "metadata": {},
   "outputs": [],
   "source": [
    "# Check your work using the totals aboveprovided_totals = {\n",
    "    2742071: 152811.89,\n",
    "    2173913: 162388.71,\n",
    "    6128929: 923441.25\n",
    "}\n",
    "\n",
    "order_totals = df.groupby('order_id')['total_price'].sum()\n",
    "\n",
    "\n"
   ]
  },
  {
   "cell_type": "markdown",
   "id": "b94d58ab",
   "metadata": {},
   "source": [
    "## Part 4: Summarize and Analyze\n",
    "Use the new columns with confirmed values to find the following information."
   ]
  },
  {
   "cell_type": "code",
   "execution_count": null,
   "id": "7c005f34",
   "metadata": {},
   "outputs": [],
   "source": [
    "# How much did each of the top 5 clients by quantity spend? Check your work from Part 1 for client ids.\n",
    "top5_clients = ['client_id_1', 'client_id_2', 'client_id_3', 'client_id_4', 'client_id_5']\n",
    "\n",
    "top5_clients_spending = df.groupby('client_id')['total_price'].sum().sort_values(ascending=False)\n",
    "\n",
    "for client_id in top5_clients:\n",
    "    if client_id in top5_clients_spending.index:\n",
    "        total_spent = top5_clients_spending.loc[client_id]\n",
    "        print(f\"Client ID {client_id}: Total Amount Spent - ${total_spent:.2f}\")\n",
    "    else:\n",
    "        print(f\"Client ID {client_id} not found in the data.\")\n"
   ]
  },
  {
   "cell_type": "code",
   "execution_count": null,
   "id": "81b6e4d2",
   "metadata": {},
   "outputs": [],
   "source": [
    "# Create a summary DataFrame showing the totals for the for the top 5 clients with the following information:\n",
    "# total units purchased, total shipping price, total revenue, and total profit. \n",
    "top_5_data = df_sorted.head(5)\n",
    "top5_summary_df = top5_data.groupby('client_id').agg({\n",
    "    'total_units': 'sum',\n",
    "    'shipping_price': 'sum',\n",
    "    'total_price': 'sum',\n",
    "    'total_profit': 'sum'\n",
    "})\n",
    "summary_df = summary_df.sort_values(by='total_profit', ascending=False)\n",
    "\n",
    "\n",
    "top5_summary_df = summary_df.head(5)"
   ]
  },
  {
   "cell_type": "code",
   "execution_count": null,
   "id": "7be02867",
   "metadata": {},
   "outputs": [],
   "source": [
    "# Format the data and rename the columns to names suitable for presentation.\n",
    "top5_summary_df = top5_summary_df.rename(columns={\n",
    "    'total_units': 'Total Units Purchased',\n",
    "    'shipping_price': 'Total Shipping Price',\n",
    "    'total_price': 'Total Revenue',\n",
    "    'total_profit': 'Total Profit'\n",
    "})\n",
    "top5_summary_df['Total Units Purchased'] = top5_summary_df['Total Units Purchased'].astype(int)\n",
    "top5_summary_df['Total Shipping Price'] = top5_summary_df['Total Shipping Price'].map('${:.2f}'.format)\n",
    "top5_summary_df['Total Revenue'] = top5_summary_df['Total Revenue'].map('${:.2f}'.format)\n",
    "top5_summary_df['Total Profit'] = top5_summary_df['Total Profit'].map('${:.2f}'.format)\n",
    "\n",
    "# Define the money columns. \n",
    "money_columns = ['Total Shipping Price', 'Total Revenue', 'Total Profit']\n",
    "\n",
    "# Define a function that converts a dollar amount to millions.\n",
    "def convert_dollars_to_millions(amount):\n",
    "    return amount / 1000000  \n",
    "\n",
    "# Apply the currency_format_millions function to only the money columns. \n",
    "top5_summary_df[money_columns] = top5_summary_df[money_columns].apply(lambda x: x.apply(convert_dollars_to_millions))\n",
    "\n",
    "# Rename the columns to reflect the change in the money format. \n",
    "\n",
    "top5_summary_df = top5_summary_df.rename(columns={\n",
    "    'Total Units Purchased': '$Total Units Purchased',\n",
    "    'Total Shipping Price': '$Total Shipping Price',\n",
    "    'Total Revenue': '$Total Revenue',\n",
    "    'Total Profit': '$Total Profit'\n",
    "})\n"
   ]
  },
  {
   "cell_type": "code",
   "execution_count": null,
   "id": "8ead0986",
   "metadata": {},
   "outputs": [],
   "source": [
    "# Sort the updated data by \"Total Profit (millions)\" form highest to lowest and assign the sort to a new DatFrame.\n",
    "top5_summary_df = top5_summary_df.rename(columns={'$Total Profit': '$Total Profit (millions)'})"
   ]
  },
  {
   "cell_type": "code",
   "execution_count": null,
   "id": "87e0e7f8-b60e-4e50-ab07-c36b6deed513",
   "metadata": {},
   "outputs": [],
   "source": [
    " # Create a new column for Total Profit in millions\n",
    "top5_summary_df['$Total Profit (millions)'] = top5_summary_df['$Total Profit'] \n",
    "top5_summary_df_sorted = top5_summary_df.sort_values(by='$Total Profit (millions)', ascending=False)\n",
    "top5_summary_df_sorted"
   ]
  }
 ],
 "metadata": {
  "kernelspec": {
   "display_name": "Python 3 (ipykernel)",
   "language": "python",
   "name": "python3"
  },
  "language_info": {
   "codemirror_mode": {
    "name": "ipython",
    "version": 3
   },
   "file_extension": ".py",
   "mimetype": "text/x-python",
   "name": "python",
   "nbconvert_exporter": "python",
   "pygments_lexer": "ipython3",
   "version": "3.11.7"
  }
 },
 "nbformat": 4,
 "nbformat_minor": 5
}
